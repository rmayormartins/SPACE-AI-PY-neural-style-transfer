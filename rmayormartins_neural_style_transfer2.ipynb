{
  "nbformat": 4,
  "nbformat_minor": 0,
  "metadata": {
    "colab": {
      "provenance": [],
      "authorship_tag": "ABX9TyM7Mp3qgczpPM6MRO3PnII8"
    },
    "kernelspec": {
      "name": "python3",
      "display_name": "Python 3"
    },
    "language_info": {
      "name": "python"
    }
  },
  "cells": [
    {
      "cell_type": "code",
      "source": [
        "import tensorflow as tf\n",
        "import tensorflow_hub as hub\n",
        "import numpy as np\n",
        "import gradio as gr\n",
        "\n",
        "# Carrega o modelo de transferência de estilo pré-treinado\n",
        "style_transfer_model = hub.load('https://tfhub.dev/google/magenta/arbitrary-image-stylization-v1-256/2')\n",
        "\n",
        "def load_image(image):\n",
        "    # Função para processar a imagem para o modelo\n",
        "    image = image.astype(np.float32)[np.newaxis, ...] / 255.\n",
        "    if image.shape[-1] == 4:\n",
        "        image = image[..., :3]\n",
        "    return image\n",
        "\n",
        "def style_transfer(content_image, style_image):\n",
        "    # Processa as imagens\n",
        "    content_image = load_image(content_image)\n",
        "    style_image = load_image(style_image)\n",
        "\n",
        "    # Executa a transferência de estilo\n",
        "    stylized_image = style_transfer_model(tf.constant(content_image), tf.constant(style_image))[0]\n",
        "\n",
        "    # Converte a imagem resultante para o formato correto\n",
        "    stylized_image = np.array(stylized_image * 255, np.uint8)\n",
        "\n",
        "    # Remove a dimensão do batch\n",
        "    stylized_image = np.squeeze(stylized_image)\n",
        "    return stylized_image\n",
        "\n",
        "iface = gr.Interface(\n",
        "    fn=style_transfer,\n",
        "    inputs=[\"image\", \"image\"],\n",
        "    outputs=\"image\"\n",
        ")\n",
        "\n",
        "iface.launch()\n"
      ],
      "metadata": {
        "colab": {
          "base_uri": "https://localhost:8080/",
          "height": 633
        },
        "id": "88tsRpla4fZ0",
        "outputId": "4faa8a79-3a05-42b3-c4fc-9ed5e0c2c980"
      },
      "execution_count": null,
      "outputs": [
        {
          "output_type": "stream",
          "name": "stdout",
          "text": [
            "Setting queue=True in a Colab notebook requires sharing enabled. Setting `share=True` (you can turn this off by setting `share=False` in `launch()` explicitly).\n",
            "\n",
            "Colab notebook detected. To show errors in colab notebook, set debug=True in launch()\n",
            "Running on public URL: https://455bef439a33bcc213.gradio.live\n",
            "\n",
            "This share link expires in 72 hours. For free permanent hosting and GPU upgrades, run `gradio deploy` from Terminal to deploy to Spaces (https://huggingface.co/spaces)\n"
          ]
        },
        {
          "output_type": "display_data",
          "data": {
            "text/plain": [
              "<IPython.core.display.HTML object>"
            ],
            "text/html": [
              "<div><iframe src=\"https://455bef439a33bcc213.gradio.live\" width=\"100%\" height=\"500\" allow=\"autoplay; camera; microphone; clipboard-read; clipboard-write;\" frameborder=\"0\" allowfullscreen></iframe></div>"
            ]
          },
          "metadata": {}
        },
        {
          "output_type": "execute_result",
          "data": {
            "text/plain": []
          },
          "metadata": {},
          "execution_count": 5
        }
      ]
    }
  ]
}