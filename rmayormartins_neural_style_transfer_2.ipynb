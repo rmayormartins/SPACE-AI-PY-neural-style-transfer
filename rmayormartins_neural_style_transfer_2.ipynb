{
  "nbformat": 4,
  "nbformat_minor": 0,
  "metadata": {
    "colab": {
      "provenance": [],
      "authorship_tag": "ABX9TyPzUeci7p1xDIoWhEkqTX1Q"
    },
    "kernelspec": {
      "name": "python3",
      "display_name": "Python 3"
    },
    "language_info": {
      "name": "python"
    }
  },
  "cells": [
    {
      "cell_type": "code",
      "source": [
        "import tensorflow as tf\n",
        "import tensorflow_hub as hub\n",
        "import numpy as np\n",
        "import gradio as gr\n",
        "import cv2\n",
        "\n",
        "# Carrega o modelo de transferência de estilo pré-treinado\n",
        "style_transfer_model = hub.load('https://tfhub.dev/google/magenta/arbitrary-image-stylization-v1-256/2')\n",
        "\n",
        "def load_image(image):\n",
        "    # Função para processar a imagem para o modelo\n",
        "    image = image.astype(np.float32)[np.newaxis, ...] / 255.\n",
        "    if image.shape[-1] == 4:\n",
        "        image = image[..., :3]\n",
        "    return image\n",
        "\n",
        "def interpolate_images(baseline, target, alpha):\n",
        "    return baseline + alpha * (target - baseline)\n",
        "\n",
        "def apply_sharpness(image, intensity):\n",
        "    kernel = np.array([[0, -intensity, 0],\n",
        "                       [-intensity, 1 + 4 * intensity, -intensity],\n",
        "                       [0, -intensity, 0]])\n",
        "    sharp_image = cv2.filter2D(image, -1, kernel)\n",
        "    return np.clip(sharp_image, 0, 255)\n",
        "\n",
        "def style_transfer(content_image, style_image, style_density, content_sharpness):\n",
        "    # Processa as imagens\n",
        "    content_image = load_image(content_image)\n",
        "    style_image = load_image(style_image)\n",
        "\n",
        "    # Aplica nitidez na imagem de conteúdo antes da transferência de estilo\n",
        "    content_image_sharp = apply_sharpness(content_image[0], intensity=content_sharpness)\n",
        "    content_image_sharp = content_image_sharp[np.newaxis, ...]\n",
        "\n",
        "    # Executa a transferência de estilo\n",
        "    stylized_image = style_transfer_model(tf.constant(content_image_sharp), tf.constant(style_image))[0]\n",
        "\n",
        "    # Interpola entre a imagem de conteúdo e a imagem estilizada para densidade de estilo\n",
        "    stylized_image = interpolate_images(\n",
        "        baseline=content_image[0],\n",
        "        target=stylized_image.numpy(),\n",
        "        alpha=style_density\n",
        "    )\n",
        "\n",
        "    # Converte a imagem resultante para o formato correto\n",
        "    stylized_image = np.array(stylized_image * 255, np.uint8)\n",
        "\n",
        "    # Remove a dimensão do batch\n",
        "    stylized_image = np.squeeze(stylized_image)\n",
        "    return stylized_image\n",
        "\n",
        "iface = gr.Interface(\n",
        "    fn=style_transfer,\n",
        "    inputs=[\n",
        "        gr.Image(label=\"Content Image\"),  # Imagem de conteúdo\n",
        "        gr.Image(label=\"Style Image\"),    # Imagem de estilo\n",
        "        gr.Slider(minimum=0, maximum=1, value=0.5, label=\"Adjust Style Density\"),\n",
        "        gr.Slider(minimum=0, maximum=1, value=0.5, label=\"Content Sharpness\")\n",
        "    ],\n",
        "    outputs=gr.Image(label=\"Stylized Image\")\n",
        ")\n",
        "\n",
        "iface.launch()\n"
      ],
      "metadata": {
        "id": "T1Yv6JaXSALJ"
      },
      "execution_count": null,
      "outputs": []
    }
  ]
}